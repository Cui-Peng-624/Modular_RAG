{
 "cells": [
  {
   "cell_type": "code",
   "execution_count": 1,
   "metadata": {},
   "outputs": [
    {
     "name": "stdout",
     "output_type": "stream",
     "text": [
      "d:\\VSCode\\VSCode仓库\\RAG\\Advanced_RAG_From_Scratch\\tests\n"
     ]
    }
   ],
   "source": [
    "import os\n",
    "print(os.getcwd())"
   ]
  },
  {
   "cell_type": "code",
   "execution_count": 2,
   "metadata": {},
   "outputs": [
    {
     "name": "stderr",
     "output_type": "stream",
     "text": [
      "d:\\Miniconda\\envs\\RAG\\Lib\\site-packages\\pinecone\\data\\index.py:1: TqdmWarning: IProgress not found. Please update jupyter and ipywidgets. See https://ipywidgets.readthedocs.io/en/stable/user_install.html\n",
      "  from tqdm.autonotebook import tqdm\n"
     ]
    }
   ],
   "source": [
    "import sys\n",
    "sys.path.append('..')  # 会跳出tests文件夹到Advanced_RAG_From_Scratch文件夹里面找PineconeManager\n",
    "from PineconeManager import PineconeManager"
   ]
  },
  {
   "cell_type": "code",
   "execution_count": 3,
   "metadata": {},
   "outputs": [],
   "source": [
    "pinecone_manager = PineconeManager()"
   ]
  },
  {
   "cell_type": "code",
   "execution_count": null,
   "metadata": {},
   "outputs": [],
   "source": [
    "# 要上传再上传\n",
    "pinecone_manager.upload_pdf_file(\"../files/fc25投资笔记.pdf\")"
   ]
  },
  {
   "cell_type": "code",
   "execution_count": 5,
   "metadata": {},
   "outputs": [],
   "source": [
    "query = \"When is the best time in a week to invest around 500,000 in a card?\"\n",
    "results, final_results = pinecone_manager.retrieval(query, top_k=2)"
   ]
  },
  {
   "cell_type": "code",
   "execution_count": 6,
   "metadata": {},
   "outputs": [
    {
     "data": {
      "text/plain": [
       "[(Document(id='dd677caa-a202-4b2c-8713-dcc25bcdec2d', metadata={'page': 2.0, 'source': '../files/fc25投资笔记.pdf'}, page_content='献祭卡\\n3. 实用金卡：\\n孙兴慜（ Son ）：周日下午 3 点  - 600k\\n周一早上的 8 点最低点  - 325k - 周赛结束，卡量大\\n周四早上的 6-8 点是低价  - 345k - 这是为啥\\n之后一路走高（甚至发 DR 奖励之后还在涨），周四下午 1-6 点达到小高峰  - 375k\\n周五早上 2 点到中午 11 点达到最高点  - 390k （短时间内波动较大）'),\n",
       "  0.440851718),\n",
       " (Document(id='e900f1ad-67eb-4aaf-b35b-38bf4577cca2', metadata={'page': 2.0, 'source': '../files/fc25投资笔记.pdf'}, page_content='献祭卡\\n3. 实用金卡：\\n孙兴慜（ Son ）：周日下午 3 点  - 600k\\n周一早上的 8 点最低点  - 325k - 周赛结束，卡量大\\n周四早上的 6-8 点是低价  - 345k - 这是为啥\\n之后一路走高（甚至发 DR 奖励之后还在涨），周四下午 1-6 点达到小高峰  - 375k\\n周五早上 2 点到中午 11 点达到最高点  - 390k （短时间内波动较大）'),\n",
       "  0.438589901)]"
      ]
     },
     "execution_count": 6,
     "metadata": {},
     "output_type": "execute_result"
    }
   ],
   "source": [
    "results"
   ]
  },
  {
   "cell_type": "code",
   "execution_count": 7,
   "metadata": {},
   "outputs": [
    {
     "data": {
      "text/plain": [
       "['献祭卡\\n3. 实用金卡：\\n孙兴慜（ Son ）：周日下午 3 点  - 600k\\n周一早上的 8 点最低点  - 325k - 周赛结束，卡量大\\n周四早上的 6-8 点是低价  - 345k - 这是为啥\\n之后一路走高（甚至发 DR 奖励之后还在涨），周四下午 1-6 点达到小高峰  - 375k\\n周五早上 2 点到中午 11 点达到最高点  - 390k （短时间内波动较大）',\n",
       " '献祭卡\\n3. 实用金卡：\\n孙兴慜（ Son ）：周日下午 3 点  - 600k\\n周一早上的 8 点最低点  - 325k - 周赛结束，卡量大\\n周四早上的 6-8 点是低价  - 345k - 这是为啥\\n之后一路走高（甚至发 DR 奖励之后还在涨），周四下午 1-6 点达到小高峰  - 375k\\n周五早上 2 点到中午 11 点达到最高点  - 390k （短时间内波动较大）']"
      ]
     },
     "execution_count": 7,
     "metadata": {},
     "output_type": "execute_result"
    }
   ],
   "source": [
    "final_results"
   ]
  },
  {
   "cell_type": "code",
   "execution_count": null,
   "metadata": {},
   "outputs": [],
   "source": []
  },
  {
   "cell_type": "code",
   "execution_count": null,
   "metadata": {},
   "outputs": [],
   "source": []
  }
 ],
 "metadata": {
  "kernelspec": {
   "display_name": "Python 3",
   "language": "python",
   "name": "python3"
  },
  "language_info": {
   "codemirror_mode": {
    "name": "ipython",
    "version": 3
   },
   "file_extension": ".py",
   "mimetype": "text/x-python",
   "name": "python",
   "nbconvert_exporter": "python",
   "pygments_lexer": "ipython3",
   "version": "3.12.7"
  }
 },
 "nbformat": 4,
 "nbformat_minor": 2
}
