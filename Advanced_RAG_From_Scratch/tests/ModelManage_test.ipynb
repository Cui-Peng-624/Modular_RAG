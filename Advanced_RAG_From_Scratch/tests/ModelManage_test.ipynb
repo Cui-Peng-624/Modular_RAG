{
 "cells": [
  {
   "cell_type": "code",
   "execution_count": 1,
   "metadata": {},
   "outputs": [
    {
     "name": "stdout",
     "output_type": "stream",
     "text": [
      "d:\\VSCode\\VSCode仓库\\RAG\\Advanced_RAG_From_Scratch\n"
     ]
    }
   ],
   "source": [
    "import os\n",
    "print(os.getcwd())\n",
    "# 这意味着最外部有一个.env就好了，如果需要显示地指定从哪个.env读取\n",
    "# from dotenv import load_dotenv\n",
    "# from pathlib import Path\n",
    "\n",
    "# env_path = Path('Advanced_RAG_From_Scratch/.env')  # 指定路径\n",
    "# load_dotenv(dotenv_path=env_path)\n"
   ]
  },
  {
   "cell_type": "code",
   "execution_count": 2,
   "metadata": {},
   "outputs": [
    {
     "name": "stderr",
     "output_type": "stream",
     "text": [
      "d:\\Miniconda\\envs\\RAG\\Lib\\site-packages\\tqdm\\auto.py:21: TqdmWarning: IProgress not found. Please update jupyter and ipywidgets. See https://ipywidgets.readthedocs.io/en/stable/user_install.html\n",
      "  from .autonotebook import tqdm as notebook_tqdm\n"
     ]
    }
   ],
   "source": [
    "from ModelManage import Model"
   ]
  },
  {
   "cell_type": "code",
   "execution_count": 3,
   "metadata": {},
   "outputs": [
    {
     "name": "stdout",
     "output_type": "stream",
     "text": [
      "sk-OfY1cryBczypy13AP6Equh1Xosv94AmlJH1QXq0W5NtK6FwD https://api.zetatechs.com/v1\n"
     ]
    }
   ],
   "source": [
    "model = Model(model_type=\"api\", model_name=\"gpt-4o\")"
   ]
  },
  {
   "cell_type": "code",
   "execution_count": 4,
   "metadata": {},
   "outputs": [
    {
     "name": "stdout",
     "output_type": "stream",
     "text": [
      "人生的意义是一个深刻而复杂的问题，不同的人会有不同的理解和答案。在哲学、宗教和个人体验的层面上，人生的意义可以有多种解释：\n",
      "\n",
      "1. **个人目标和成就**：对于一些人来说，人生的意义在于实现个人的目标和梦想，追求成就感和成功。这可能包括职业上的成就、家庭的幸福或者是个人兴趣的追求。\n",
      "\n",
      "2. **人际关系**：与他人的关系往往成为许多人生活的核心。友谊、爱情和家庭关系可以赋予人生巨大的意义。\n",
      "\n",
      "3. **贡献与服务**：为他人、社区或更大的社会做出贡献可以为人生增添价值和意义。服务于他人以及对世界产生积极影响能带来深刻的满足感。\n",
      "\n",
      "4. **自我实现**：根据心理学家亚伯拉罕·马斯洛的观点，自我实现是人类的一个基本需求。努力成为最好的自己，以及追求自身潜能的最大化，也可以看作是人生的意义。\n",
      "\n",
      "5. **哲学和宗教信仰**：许多文化和宗教提供了有关人生意义的框架。例如，在某些宗教中，人生被视为准备来世或实现某种超越的机会。\n",
      "\n",
      "6. **体验和成长**：一些人认为人生本身的经历和成长就是意义所在。通过经历痛苦和快乐，我们不断学习和成长。\n",
      "\n",
      "实际上，人生的意义可能不是一个固定的终点，而是个人探索和体验的过程。每个人都有机会在他们的旅程中发现属于自己的答案。\n"
     ]
    }
   ],
   "source": [
    "user_prompt = \"人生的意义是什么\"\n",
    "response = model.generate(user_prompt)\n",
    "print(response)"
   ]
  },
  {
   "cell_type": "code",
   "execution_count": null,
   "metadata": {},
   "outputs": [],
   "source": []
  },
  {
   "cell_type": "code",
   "execution_count": null,
   "metadata": {},
   "outputs": [],
   "source": []
  }
 ],
 "metadata": {
  "kernelspec": {
   "display_name": "Python 3",
   "language": "python",
   "name": "python3"
  },
  "language_info": {
   "codemirror_mode": {
    "name": "ipython",
    "version": 3
   },
   "file_extension": ".py",
   "mimetype": "text/x-python",
   "name": "python",
   "nbconvert_exporter": "python",
   "pygments_lexer": "ipython3",
   "version": "3.12.7"
  }
 },
 "nbformat": 4,
 "nbformat_minor": 2
}
