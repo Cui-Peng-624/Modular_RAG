{
 "cells": [
  {
   "cell_type": "code",
   "execution_count": 2,
   "metadata": {},
   "outputs": [
    {
     "name": "stderr",
     "output_type": "stream",
     "text": [
      "d:\\Miniconda\\envs\\RAG\\Lib\\site-packages\\tqdm\\auto.py:21: TqdmWarning: IProgress not found. Please update jupyter and ipywidgets. See https://ipywidgets.readthedocs.io/en/stable/user_install.html\n",
      "  from .autonotebook import tqdm as notebook_tqdm\n"
     ]
    }
   ],
   "source": [
    "import sys\n",
    "from pathlib import Path\n",
    "project_root = str(Path(\"E:/RAG\").absolute())\n",
    "sys.path.append(project_root)\n",
    "from src.model_utils.model_manage import ModelManage"
   ]
  },
  {
   "cell_type": "code",
   "execution_count": 3,
   "metadata": {},
   "outputs": [],
   "source": [
    "model = ModelManage(model_type=\"api\", model_name=\"gpt-4o\")"
   ]
  },
  {
   "cell_type": "code",
   "execution_count": 4,
   "metadata": {},
   "outputs": [
    {
     "name": "stdout",
     "output_type": "stream",
     "text": [
      "关于人生意义的问题，不同的人可能有不同的看法。哲学家、宗教领袖、文学家以及普通人都对这一问题提出了各自的理解。以下是一些常见的观点：\n",
      "\n",
      "1. **自我实现**：一些人认为人生的意义在于成长和发展个人潜能，实现自己的目标和梦想。\n",
      "\n",
      "2. **幸福和快乐**：通过追求快乐和幸福，以及提升生活质量，有人认为这些就是生活的目标。\n",
      "\n",
      "3. **与他人的关系**：许多人发现，与他人的关系和爱是人生的中心。友谊、家庭和社区等关系可能为生活增添深度和意义。\n",
      "\n",
      "4. **有意义的工作和贡献**：一些人通过工作和对社会的贡献找到人生的意义。帮助他人、推动社会进步都是重要的因素。\n",
      "\n",
      "5. **宗教和精神信仰**：对一些人来说，人生的意义由宗教或精神信仰所指引，他们可能相信更高的力量或目的。\n",
      "\n",
      "6. **寻求知识和探索**：探索未知的世界，持续学习和增长智慧是一些人追求的目标。\n",
      "\n",
      "人生的意义是一个个人化的问题，每个人可能会在不同的生命阶段定义不同的意义。探索这一问题的过程本身就是生活的一部分。\n"
     ]
    }
   ],
   "source": [
    "user_prompt = \"人生的意义是什么\"\n",
    "response = model.generate(user_prompt)\n",
    "print(response)"
   ]
  },
  {
   "cell_type": "code",
   "execution_count": null,
   "metadata": {},
   "outputs": [],
   "source": []
  },
  {
   "cell_type": "code",
   "execution_count": null,
   "metadata": {},
   "outputs": [],
   "source": []
  }
 ],
 "metadata": {
  "kernelspec": {
   "display_name": "Python 3",
   "language": "python",
   "name": "python3"
  },
  "language_info": {
   "codemirror_mode": {
    "name": "ipython",
    "version": 3
   },
   "file_extension": ".py",
   "mimetype": "text/x-python",
   "name": "python",
   "nbconvert_exporter": "python",
   "pygments_lexer": "ipython3",
   "version": "3.12.7"
  }
 },
 "nbformat": 4,
 "nbformat_minor": 2
}
