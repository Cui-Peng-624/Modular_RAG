{
 "cells": [
  {
   "cell_type": "code",
   "execution_count": 1,
   "metadata": {},
   "outputs": [
    {
     "name": "stderr",
     "output_type": "stream",
     "text": [
      "d:\\Miniconda\\envs\\RAG\\Lib\\site-packages\\tqdm\\auto.py:21: TqdmWarning: IProgress not found. Please update jupyter and ipywidgets. See https://ipywidgets.readthedocs.io/en/stable/user_install.html\n",
      "  from .autonotebook import tqdm as notebook_tqdm\n"
     ]
    }
   ],
   "source": [
    "import sys\n",
    "from pathlib import Path\n",
    "project_root = str(Path(\"E:/RAG\").absolute())\n",
    "sys.path.append(project_root)\n",
    "from src.model_managers.model_manage import ModelManage"
   ]
  },
  {
   "cell_type": "code",
   "execution_count": 2,
   "metadata": {},
   "outputs": [],
   "source": [
    "model = ModelManage(model_type=\"api\", model_name=\"gpt-4o\")"
   ]
  },
  {
   "cell_type": "code",
   "execution_count": 3,
   "metadata": {},
   "outputs": [
    {
     "name": "stdout",
     "output_type": "stream",
     "text": [
      "人生的意义这个问题因人而异，没有一个普适的答案。对许多人来说，人生的意义可能蕴含在以下几个方面：\n",
      "\n",
      "1. **爱与关系**：建立深厚的关系，爱与被爱，与家人、朋友以及社区保持联系，是许多人认为的生命意义所在。\n",
      "\n",
      "2. **成长与个人发展**：通过人生的体验，不断学习和成长，追求自我实现和内心的平和。\n",
      "\n",
      "3. **贡献与帮助他人**：通过工作、志愿者活动或日常的善行，为他人和社会做出贡献。\n",
      "\n",
      "4. **追求激情与兴趣**：追随自己的激情和兴趣，例如艺术、科学、运动等，从中找到乐趣和满足感。\n",
      "\n",
      "5. **寻求智慧与理解**：探索世界的奥秘，寻求更深层次的智慧和理解，使人感到与宇宙的联系。\n",
      "\n",
      "每个人在不同的生命阶段可能会对人生意义有不同的看法和追求。重要的是，找到对自己来说有意义的事情，并从中获得满足感和平和感。\n"
     ]
    }
   ],
   "source": [
    "user_prompt = \"人生的意义是什么\"\n",
    "response = model.generate(user_prompt)\n",
    "print(response)"
   ]
  },
  {
   "cell_type": "code",
   "execution_count": null,
   "metadata": {},
   "outputs": [],
   "source": []
  },
  {
   "cell_type": "code",
   "execution_count": null,
   "metadata": {},
   "outputs": [],
   "source": []
  }
 ],
 "metadata": {
  "kernelspec": {
   "display_name": "Python 3",
   "language": "python",
   "name": "python3"
  },
  "language_info": {
   "codemirror_mode": {
    "name": "ipython",
    "version": 3
   },
   "file_extension": ".py",
   "mimetype": "text/x-python",
   "name": "python",
   "nbconvert_exporter": "python",
   "pygments_lexer": "ipython3",
   "version": "3.12.7"
  }
 },
 "nbformat": 4,
 "nbformat_minor": 2
}
