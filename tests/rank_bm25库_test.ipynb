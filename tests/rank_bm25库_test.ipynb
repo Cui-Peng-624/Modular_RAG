{
 "cells": [
  {
   "cell_type": "code",
   "execution_count": 1,
   "metadata": {},
   "outputs": [
    {
     "name": "stdout",
     "output_type": "stream",
     "text": [
      "Document: Python is a great programming language.\n",
      "Score: 0.8918924846181091\n",
      "\n",
      "Document: Java is also a popular language.\n",
      "Score: 0.0\n",
      "\n",
      "Document: Machine learning is a hot topic in AI.\n",
      "Score: 0.0\n",
      "\n",
      "Document: Python is widely used in data science.\n",
      "Score: 0.0\n",
      "\n"
     ]
    }
   ],
   "source": [
    "from rank_bm25 import BM25Okapi\n",
    "\n",
    "# 示例文档集合\n",
    "documents = [\n",
    "    \"Python is a great programming language.\",\n",
    "    \"Java is also a popular language.\",\n",
    "    \"Machine learning is a hot topic in AI.\",\n",
    "    \"Python is widely used in data science.\"\n",
    "]\n",
    "\n",
    "# 将文档转换为分词列表\n",
    "tokenized_docs = [doc.split(\" \") for doc in documents]\n",
    "\n",
    "# 初始化 BM25 模型\n",
    "bm25 = BM25Okapi(tokenized_docs)\n",
    "\n",
    "# 示例查询\n",
    "query = \"Python programming\"\n",
    "tokenized_query = query.split(\" \")\n",
    "\n",
    "# 计算查询与文档的相关性分数\n",
    "scores = bm25.get_scores(tokenized_query)\n",
    "\n",
    "# 输出相关性分数\n",
    "for doc, score in zip(documents, scores):\n",
    "    print(f\"Document: {doc}\\nScore: {score}\\n\")"
   ]
  },
  {
   "cell_type": "code",
   "execution_count": null,
   "metadata": {},
   "outputs": [],
   "source": []
  },
  {
   "cell_type": "code",
   "execution_count": null,
   "metadata": {},
   "outputs": [],
   "source": []
  }
 ],
 "metadata": {
  "kernelspec": {
   "display_name": "Python 3",
   "language": "python",
   "name": "python3"
  },
  "language_info": {
   "codemirror_mode": {
    "name": "ipython",
    "version": 3
   },
   "file_extension": ".py",
   "mimetype": "text/x-python",
   "name": "python",
   "nbconvert_exporter": "python",
   "pygments_lexer": "ipython3",
   "version": "3.12.7"
  }
 },
 "nbformat": 4,
 "nbformat_minor": 2
}
