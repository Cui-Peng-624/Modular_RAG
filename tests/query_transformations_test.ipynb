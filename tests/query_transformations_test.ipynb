{
 "cells": [
  {
   "cell_type": "code",
   "execution_count": 6,
   "metadata": {},
   "outputs": [],
   "source": [
    "import os\n",
    "os.environ[\"http_proxy\"]=\"http://127.0.0.1:7897\"\n",
    "os.environ[\"https_proxy\"]=\"http://127.0.0.1:7897\""
   ]
  },
  {
   "cell_type": "code",
   "execution_count": 2,
   "metadata": {},
   "outputs": [],
   "source": [
    "from pathlib import Path\n",
    "import sys\n",
    "\n",
    "# 直接指定项目根目录\n",
    "project_root = str(Path.cwd().parent)  # 跳到RAG目录下\n",
    "sys.path.append(project_root)"
   ]
  },
  {
   "cell_type": "code",
   "execution_count": 3,
   "metadata": {},
   "outputs": [],
   "source": [
    "query = \"什么是深度强化学习？\""
   ]
  },
  {
   "cell_type": "markdown",
   "metadata": {},
   "source": [
    "### 1. multi_query.py"
   ]
  },
  {
   "cell_type": "code",
   "execution_count": 4,
   "metadata": {},
   "outputs": [],
   "source": [
    "from src.query_transformations.multi_query import generate_queries_multi_query, generate_queries_multi_query_with_structured_output"
   ]
  },
  {
   "cell_type": "code",
   "execution_count": 5,
   "metadata": {},
   "outputs": [
    {
     "name": "stdout",
     "output_type": "stream",
     "text": [
      "['深度强化学习的基本原理是什么？', '能否解释深度强化学习的工作机制？', '深度强化学习与传统强化学习有什么区别？', '深度强化学习在人工智能中的应用有哪些？', '什么是深度强化学习的核心概念？']\n"
     ]
    }
   ],
   "source": [
    "result1 = generate_queries_multi_query(query)\n",
    "print(result1)"
   ]
  },
  {
   "cell_type": "code",
   "execution_count": 6,
   "metadata": {},
   "outputs": [
    {
     "name": "stdout",
     "output_type": "stream",
     "text": [
      "['深度强化学习与传统强化学习有何不同？', '请解释深度强化学习的基本概念和应用。', '如何在人工智能中实现深度强化学习？', '深度强化学习的工作原理是什么？', '深度强化学习在现实世界中的应用有哪些？']\n"
     ]
    }
   ],
   "source": [
    "result2 = generate_queries_multi_query_with_structured_output(query)\n",
    "print(result2)"
   ]
  },
  {
   "cell_type": "markdown",
   "metadata": {},
   "source": [
    "### 2. RAG-Fusion"
   ]
  },
  {
   "cell_type": "markdown",
   "metadata": {},
   "source": [
    "### 3. decomposition"
   ]
  },
  {
   "cell_type": "code",
   "execution_count": 4,
   "metadata": {},
   "outputs": [],
   "source": [
    "from src.query_transformations.decomposition import generate_queries_decomposition_with_structured_output, generate_final_prompt_decomposition_recursively, generate_final_prompt_decomposition_individually"
   ]
  },
  {
   "cell_type": "code",
   "execution_count": 8,
   "metadata": {},
   "outputs": [
    {
     "name": "stdout",
     "output_type": "stream",
     "text": [
      "['What is reinforcement learning and how does it work?', 'How does deep learning contribute to reinforcement learning?', 'What are some applications of deep reinforcement learning?', 'What are the main challenges in deep reinforcement learning?', 'How does deep reinforcement learning differ from traditional reinforcement learning?']\n"
     ]
    }
   ],
   "source": [
    "result3 = generate_queries_decomposition_with_structured_output(query)\n",
    "print(result3)"
   ]
  },
  {
   "cell_type": "code",
   "execution_count": null,
   "metadata": {},
   "outputs": [],
   "source": [
    "result4 = generate_final_prompt_decomposition_recursively(query, dense_weight=0.7)\n",
    "print(result4)"
   ]
  },
  {
   "cell_type": "code",
   "execution_count": null,
   "metadata": {},
   "outputs": [],
   "source": [
    "result5 = generate_final_prompt_decomposition_individually(query, dense_weight=0.7)\n",
    "print(result5)"
   ]
  },
  {
   "cell_type": "markdown",
   "metadata": {},
   "source": [
    "### 4. step_back\n"
   ]
  },
  {
   "cell_type": "code",
   "execution_count": 9,
   "metadata": {},
   "outputs": [
    {
     "name": "stdout",
     "output_type": "stream",
     "text": [
      "深度强化学习的基本概念是什么？\n"
     ]
    }
   ],
   "source": [
    "from src.query_transformations.step_back import step_back_question\n",
    "result6 = step_back_question(query)\n",
    "print(result6)\n"
   ]
  },
  {
   "cell_type": "markdown",
   "metadata": {},
   "source": [
    "### 5. HyDE"
   ]
  },
  {
   "cell_type": "code",
   "execution_count": null,
   "metadata": {},
   "outputs": [],
   "source": [
    "from langchain_openai import ChatOpenAI\n",
    "help(ChatOpenAI)\n"
   ]
  },
  {
   "cell_type": "code",
   "execution_count": 11,
   "metadata": {},
   "outputs": [
    {
     "name": "stdout",
     "output_type": "stream",
     "text": [
      "深度强化学习（Deep Reinforcement Learning, DRL）是一种结合了深度学习和强化学习的机器学习方法。强化学习是一种通过与环境交互来学习最优策略的框架，其中智能体（agent）通过试错法（trial-and-error）来最大化累积奖励。深度学习则利用深度神经网络来处理高维数据，提取复杂特征。\n",
      "\n",
      "在深度强化学习中，深度神经网络被用作函数逼近器，以估计价值函数或策略函数。这使得智能体能够在高维状态空间中进行有效的决策。例如，DRL在图像处理、自然语言处理和游戏等领域取得了显著的成功，尤其是在复杂的环境中，如AlphaGo和OpenAI的Dota 2智能体。\n",
      "\n",
      "深度强化学习的核心思想是通过使用深度神经网络来处理和表示状态信息，从而使得智能体能够在复杂的环境中学习到有效的策略。通过不断地与环境交互，智能体能够更新其策略，以适应动态变化的环境，并最终实现目标导向的行为。DRL的研究不仅推动了人工智能的发展，也为解决实际问题提供了新的思路和方法。\n"
     ]
    }
   ],
   "source": [
    "from src.query_transformations.HyDE import generate_hyde_document\n",
    "result7 = generate_hyde_document(query)\n",
    "print(result7)"
   ]
  },
  {
   "cell_type": "code",
   "execution_count": null,
   "metadata": {},
   "outputs": [],
   "source": []
  },
  {
   "cell_type": "code",
   "execution_count": null,
   "metadata": {},
   "outputs": [],
   "source": []
  },
  {
   "cell_type": "code",
   "execution_count": null,
   "metadata": {},
   "outputs": [],
   "source": []
  },
  {
   "cell_type": "code",
   "execution_count": null,
   "metadata": {},
   "outputs": [],
   "source": []
  }
 ],
 "metadata": {
  "kernelspec": {
   "display_name": "Python 3",
   "language": "python",
   "name": "python3"
  },
  "language_info": {
   "codemirror_mode": {
    "name": "ipython",
    "version": 3
   },
   "file_extension": ".py",
   "mimetype": "text/x-python",
   "name": "python",
   "nbconvert_exporter": "python",
   "pygments_lexer": "ipython3",
   "version": "3.12.7"
  }
 },
 "nbformat": 4,
 "nbformat_minor": 2
}
