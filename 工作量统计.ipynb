{
 "cells": [
  {
   "cell_type": "code",
   "execution_count": 1,
   "metadata": {},
   "outputs": [
    {
     "name": "stdout",
     "output_type": "stream",
     "text": [
      "文件: src\\document_processors\\loader.py, 行数: 54\n",
      "文件: src\\document_processors\\splitter.py, 行数: 40\n",
      "文件: src\\document_processors\\__init__.py, 行数: 0\n",
      "文件: src\\model_utils\\AsyncApiClient.py, 行数: 139\n",
      "文件: src\\model_utils\\model_manage.py, 行数: 132\n",
      "文件: src\\model_utils\\__init__.py, 行数: 0\n",
      "文件: src\\query_transformations\\abstractness_analyzer.py, 行数: 55\n",
      "文件: src\\query_transformations\\decomposition.py, 行数: 170\n",
      "文件: src\\query_transformations\\HyDE.py, 行数: 56\n",
      "文件: src\\query_transformations\\multi_query.py, 行数: 181\n",
      "文件: src\\query_transformations\\rag_fusion.py, 行数: 0\n",
      "文件: src\\query_transformations\\step_back.py, 行数: 76\n",
      "文件: src\\query_transformations\\__init__.py, 行数: 0\n",
      "文件: src\\retrieval\\retrieval.py, 行数: 1\n",
      "文件: src\\routing\\__init__.py, 行数: 0\n",
      "文件: src\\sparse_retrievers\\bm25_manager.py, 行数: 102\n",
      "文件: src\\vdb_managers\\chroma_manager.py, 行数: 388\n",
      "文件: src\\vdb_managers\\fuzzy_metadata_filter.py, 行数: 216\n",
      "文件: src\\vdb_managers\\pinecone_manager.py, 行数: 215\n",
      "文件: src\\vdb_managers\\__init__.py, 行数: 0\n",
      "文件: src\\vdb_managers\\drop\\chroma_manager_1.py, 行数: 336\n",
      "文件: src\\vdb_managers\\drop\\chroma_manager_2.py, 行数: 407\n",
      "文件: src\\vdb_managers\\drop\\chroma_manager_3.py, 行数: 341\n",
      "总行数: 2909\n"
     ]
    }
   ],
   "source": [
    "import os\n",
    "\n",
    "def count_lines_in_file(file_path):\n",
    "    \"\"\"统计单个文件的行数\"\"\"\n",
    "    with open(file_path, 'r', encoding='utf-8') as file:\n",
    "        return sum(1 for _ in file)\n",
    "\n",
    "def count_lines_in_folder(folder_path):\n",
    "    \"\"\"统计文件夹下所有 .py 文件的行数\"\"\"\n",
    "    total_lines = 0\n",
    "    for root, dirs, files in os.walk(folder_path):\n",
    "        for file in files:\n",
    "            if file.endswith('.py'):\n",
    "                file_path = os.path.join(root, file)\n",
    "                lines = count_lines_in_file(file_path)\n",
    "                total_lines += lines\n",
    "                print(f\"文件: {file_path}, 行数: {lines}\")\n",
    "    return total_lines\n",
    "\n",
    "# 示例用法\n",
    "folder_path = \"src\"  # 替换为你的文件夹路径\n",
    "total_lines = count_lines_in_folder(folder_path)\n",
    "print(f\"总行数: {total_lines}\")"
   ]
  },
  {
   "cell_type": "code",
   "execution_count": null,
   "metadata": {},
   "outputs": [],
   "source": []
  },
  {
   "cell_type": "code",
   "execution_count": null,
   "metadata": {},
   "outputs": [],
   "source": []
  },
  {
   "cell_type": "code",
   "execution_count": null,
   "metadata": {},
   "outputs": [],
   "source": []
  },
  {
   "cell_type": "code",
   "execution_count": null,
   "metadata": {},
   "outputs": [],
   "source": []
  },
  {
   "cell_type": "markdown",
   "metadata": {},
   "source": []
  }
 ],
 "metadata": {
  "kernelspec": {
   "display_name": "Python 3",
   "language": "python",
   "name": "python3"
  },
  "language_info": {
   "codemirror_mode": {
    "name": "ipython",
    "version": 3
   },
   "file_extension": ".py",
   "mimetype": "text/x-python",
   "name": "python",
   "nbconvert_exporter": "python",
   "pygments_lexer": "ipython3",
   "version": "3.12.7"
  }
 },
 "nbformat": 4,
 "nbformat_minor": 2
}
